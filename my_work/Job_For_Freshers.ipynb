{
 "cells": [
  {
   "cell_type": "code",
   "execution_count": 1,
   "id": "3356aeec-4a77-43c0-b554-e63e806d8652",
   "metadata": {},
   "outputs": [],
   "source": [
    "from bs4 import BeautifulSoup\n",
    "import requests\n",
    "url = 'https://jobforfresher.in/'\n",
    "response = requests.get(url)\n",
    "soup = BeautifulSoup(response.text, 'html.parser')\n",
    "job_links = soup.find_all(\"div\", {\"class\": \"gb-grid-column-f28a19ce\"})"
   ]
  },
  {
   "cell_type": "code",
   "execution_count": 2,
   "id": "5769b0c6-bb4f-4068-9f20-c35b8d4d08f5",
   "metadata": {},
   "outputs": [
    {
     "data": {
      "text/plain": [
       "['https://jobforfresher.in/cognizant-off-campus-drive-2023/',\n",
       " 'https://jobforfresher.in/ntt-careers-hiring-2023/',\n",
       " 'https://jobforfresher.in/synopsys-internship-2023/',\n",
       " 'https://jobforfresher.in/wipro-careers-off-campus-drive-2023-for-developer/',\n",
       " 'https://jobforfresher.in/amazon-is-hiring-for-system-development-engineer/',\n",
       " 'https://jobforfresher.in/rategain-code-rangers/',\n",
       " 'https://jobforfresher.in/wipro-recruitment-2023-for-sim/']"
      ]
     },
     "execution_count": 2,
     "metadata": {},
     "output_type": "execute_result"
    }
   ],
   "source": [
    "IT_JOB_LINKS= []\n",
    "for i in job_links:\n",
    "    link=i.find(\"a\").get('href')\n",
    "    IT_JOB_LINKS.append(link)\n",
    "IT_JOB_LINKS"
   ]
  },
  {
   "cell_type": "code",
   "execution_count": 3,
   "id": "caf9f3f8-385f-4e74-aa3a-f07b01822505",
   "metadata": {},
   "outputs": [],
   "source": [
    "details=[]\n",
    "apply_links=[]\n",
    "Dates=[]\n",
    "Responsibilities_For_Candidates=[]\n",
    "for link in IT_JOB_LINKS:\n",
    "    url1 = link\n",
    "    response1 = requests.get(url1)\n",
    "    soup1 = BeautifulSoup(response1.text, 'html.parser')\n",
    "    for tr in soup1.find_all(\"tr\"):\n",
    "        value = tr.find_all(\"td\")[1].text.strip()\n",
    "        details.append(value)\n",
    "    try:\n",
    "        apply_link=(soup1.find_all(\"span\",{\"style\":\"color: #0000ff;\"})[3]).a[\"href\"]\n",
    "        apply_links.append(apply_link)\n",
    "    except Exception as e:\n",
    "        apply_link=(f\"Error: {e}\")\n",
    "        apply_links.append(apply_link)\n",
    "    l=soup1.find_all(\"ul\")[2].text.strip()\n",
    "    Responsibilities_For_Candidates.append(l)\n",
    "    date=soup1.find_all(\"time\",{\"class\":\"entry-date published\"})\n",
    "    for i in date:\n",
    "        Dates.append(i.text)\n",
    "    \n",
    "    "
   ]
  },
  {
   "cell_type": "code",
   "execution_count": 14,
   "id": "bc33328e-17c9-4d70-99c8-2c65a20d56ce",
   "metadata": {},
   "outputs": [],
   "source": [
    "from bs4 import BeautifulSoup\n",
    "from selenium import webdriver\n",
    "import time"
   ]
  },
  {
   "cell_type": "code",
   "execution_count": 92,
   "id": "2dc0bb57-445a-40c1-80f5-a0ca2a49c87c",
   "metadata": {},
   "outputs": [
    {
     "name": "stderr",
     "output_type": "stream",
     "text": [
      "C:\\Users\\hp\\AppData\\Local\\Temp\\ipykernel_5092\\1111890680.py:4: DeprecationWarning: The 'text' argument to find()-type methods is deprecated. Use 'string' instead.\n",
      "  link_text = span_element.find('a', text=\"Click Here\")\n"
     ]
    }
   ],
   "source": [
    "span_elements=soup1.find_all(\"span\",{\"style\":\"color: #0000ff;\"})\n",
    "job_links = []\n",
    "for span_element in span_elements:\n",
    "    link_text = span_element.find('a', text=\"Click Here\")\n",
    "    if link_text:\n",
    "        job_apply_link = link_text['href']\n",
    "        job_links.append(job_apply_link)"
   ]
  },
  {
   "cell_type": "code",
   "execution_count": 93,
   "id": "79af8ae9-eddc-43ea-9d43-3a1be83adad0",
   "metadata": {},
   "outputs": [
    {
     "data": {
      "text/plain": [
       "['https://unstop.com/competitions/worlds-biggest-cricket-quiz-festival-unstop-784945?utm_source=Prepflix&utm_medium=Affiliates-Marketing&utm_campaign=CricketQuiz&ref=GovYLSMR']"
      ]
     },
     "execution_count": 93,
     "metadata": {},
     "output_type": "execute_result"
    }
   ],
   "source": [
    "job_links"
   ]
  },
  {
   "cell_type": "code",
   "execution_count": 4,
   "id": "40482f59-d578-4821-a5bc-d10ed737b8b4",
   "metadata": {},
   "outputs": [],
   "source": [
    "Company_Name=details[0::8]\n",
    "Job_Role=details[1::8]\n",
    "Qualification=details[2::8]\n",
    "Branch=details[3::8]\n",
    "Batch=details[4::8]\n",
    "Salary=details[5::8]\n",
    "Experience=details[6::8]\n",
    "Location=details[7::8]"
   ]
  },
  {
   "cell_type": "code",
   "execution_count": 6,
   "id": "fefb989a-3b11-4706-bef0-34348aa8e0f4",
   "metadata": {},
   "outputs": [],
   "source": [
    "import pandas as pd\n",
    "drive_details={\"Publish_Date\":Dates,\"Company_Name\":Company_Name,\"Job_Role\":Job_Role,\"Qualification\":Qualification,\"Branch\":Branch,\"Batch\":Batch,\"Salary\":Salary,\"Experience\":Experience,\"Location\":Location,\"Responsibilities_For_Candidates\":Responsibilities_For_Candidates,\"apply_links\":apply_links}\n",
    "drive=r\"C:\\Users\\hp\\Desktop\\python_files\\drive_details3.xlsx\"\n",
    "drive1=pd.DataFrame(drive_details)\n",
    "drive1.to_excel(drive,index=False)"
   ]
  },
  {
   "cell_type": "code",
   "execution_count": 5,
   "id": "41e2ef2a-3c95-4eef-a06f-36ce6eb6bc2f",
   "metadata": {},
   "outputs": [
    {
     "name": "stdout",
     "output_type": "stream",
     "text": [
      "7\n",
      "7\n",
      "7\n",
      "7\n",
      "7\n",
      "7\n",
      "7\n",
      "7\n",
      "7\n",
      "7\n"
     ]
    }
   ],
   "source": [
    "print(len(Company_Name))\n",
    "print(len(Job_Role))\n",
    "print(len(Qualification))\n",
    "print(len(Branch))\n",
    "print(len(Batch))\n",
    "print(len(Salary))\n",
    "print(len(Experience))\n",
    "print(len(Location))\n",
    "print(len(Responsibilities_For_Candidates))\n",
    "print(len(apply_links))\n"
   ]
  },
  {
   "cell_type": "raw",
   "id": "84a2e797-33db-4357-8a65-f3fd8579ae4f",
   "metadata": {},
   "source": [
    "Responsibilities_For_Candidates"
   ]
  },
  {
   "cell_type": "code",
   "execution_count": 62,
   "id": "79dc8409-7073-41c3-a225-53809ffbc400",
   "metadata": {},
   "outputs": [],
   "source": [
    "a=\"b\""
   ]
  },
  {
   "cell_type": "code",
   "execution_count": 63,
   "id": "9b6de805-5618-413b-b95e-e2c6ded08544",
   "metadata": {},
   "outputs": [
    {
     "data": {
      "text/plain": [
       "'b'"
      ]
     },
     "execution_count": 63,
     "metadata": {},
     "output_type": "execute_result"
    }
   ],
   "source": [
    "a"
   ]
  },
  {
   "cell_type": "code",
   "execution_count": 90,
   "id": "1159aad1-0912-4eab-b1b7-62f58daf202f",
   "metadata": {},
   "outputs": [
    {
     "data": {
      "text/plain": [
       "['Wipro',\n",
       " 'System Engineer',\n",
       " 'BE, B Tech, ME, M Tech, MCA, BSC, BCA',\n",
       " 'Any Branches',\n",
       " '2019, 2020, 2021, 2022 & 2023',\n",
       " 'INR 4.3\\xa0LPA*',\n",
       " 'Fresher (0 – 2)',\n",
       " 'Mumbai']"
      ]
     },
     "execution_count": 90,
     "metadata": {},
     "output_type": "execute_result"
    }
   ],
   "source": [
    "details"
   ]
  },
  {
   "cell_type": "code",
   "execution_count": 72,
   "id": "252c5213-e522-461a-a623-252491a991c8",
   "metadata": {},
   "outputs": [],
   "source": [
    "hii=IT_JOB_LINKS[0]"
   ]
  },
  {
   "cell_type": "code",
   "execution_count": 73,
   "id": "d650c0d1-0647-441e-85db-ab14c6e4373f",
   "metadata": {},
   "outputs": [
    {
     "data": {
      "text/plain": [
       "'https://jobforfresher.in/wipro-off-campus-drive-2023-hiring-for-system-engineer/'"
      ]
     },
     "execution_count": 73,
     "metadata": {},
     "output_type": "execute_result"
    }
   ],
   "source": [
    "hii"
   ]
  },
  {
   "cell_type": "code",
   "execution_count": 75,
   "id": "4e606841-bede-4215-8a10-97060b563793",
   "metadata": {},
   "outputs": [
    {
     "data": {
      "text/plain": [
       "[]"
      ]
     },
     "execution_count": 75,
     "metadata": {},
     "output_type": "execute_result"
    }
   ],
   "source": [
    "details"
   ]
  },
  {
   "cell_type": "code",
   "execution_count": 85,
   "id": "31f2a395-5529-409d-9545-7f122955898e",
   "metadata": {},
   "outputs": [
    {
     "name": "stderr",
     "output_type": "stream",
     "text": [
      "C:\\Users\\hp\\AppData\\Local\\Temp\\ipykernel_5092\\1058380849.py:12: DeprecationWarning: The 'text' argument to find()-type methods is deprecated. Use 'string' instead.\n",
      "  link_text = span_element.find('a', text=\"Click Here\")\n"
     ]
    }
   ],
   "source": [
    "details=[]\n",
    "apply_links=[]\n",
    "Responsibilities_For_Candidates=[]\n",
    "url1 = \"https://jobforfresher.in/wipro-off-campus-drive-2023-hiring-for-system-engineer/\"\n",
    "response1 = requests.get(url1)\n",
    "soup1 = BeautifulSoup(response.text, 'html.parser')\n",
    "for tr in soup1.find_all(\"tr\"):\n",
    "    value = tr.find_all(\"td\")[1].text.strip()\n",
    "    details.append(value)\n",
    "span_elements=soup1.find_all(\"span\",{\"style\":\"color: #0000ff;\"})\n",
    "for span_element in span_elements:\n",
    "    link_text = span_element.find('a', text=\"Click Here\")\n",
    "    if link_text:\n",
    "        job_apply_link = link_text['href']\n",
    "        apply_links.append(job_apply_link)\n",
    "l=soup1.find_all(\"ul\")\n",
    "all_responsibilities = \"\"\n",
    "for ul in l:\n",
    "    li_elements = ul.find_all('li')\n",
    "    for li in li_elements:\n",
    "        responsibility = li.text.strip()\n",
    "        all_responsibilities += responsibility + \" \"\n",
    "Responsibilities_For_Candidates.append(all_responsibilities)"
   ]
  },
  {
   "cell_type": "code",
   "execution_count": 86,
   "id": "462beba4-f84d-495a-8926-ca86547f15af",
   "metadata": {},
   "outputs": [
    {
     "data": {
      "text/plain": [
       "[]"
      ]
     },
     "execution_count": 86,
     "metadata": {},
     "output_type": "execute_result"
    }
   ],
   "source": [
    "details"
   ]
  },
  {
   "cell_type": "code",
   "execution_count": 88,
   "id": "e96af061-c6ad-4405-b03d-797a9dcdbfa4",
   "metadata": {},
   "outputs": [
    {
     "data": {
      "text/plain": [
       "\"Home Fresher Job’s Internships Software / IT Job’s Government Job’s Work From Home All that you need to know about World’s Biggest Cricket Quiz Festival World’s Biggest Cricket Quiz Festival With 48 matches happening in the\\xa0ICC World Cup 2023, there will be a\\xa0quiz around every match spread across 45 days. Participants have to answer 6 cricket based questions\\xa0in 5 minutes. One of the 6 questions\\xa0will be based on the teams playing on the day itself. The quiz can be taken at any point in the\\xa015-minute window. Unlike your favorite cricket team, you play these quizzes as\\xa0individuals You can attempt each quiz only once All participants to\\xa0maintain a streak of 10 quizzes (not necessarily win) in order to be eligible to win prizes. World’s Biggest Cricket Quiz Festival You get to earn\\xa02x Points\\xa0on the day of Indian matches Unstop to conduct a\\xa0Grand Finale\\xa0round with the top 6 participants before the actual final of the\\xa0World Cup Top of the leaderboard wins All the questions will be related to cricket and cricket only All decisions in the matter of scores & final judgment will be with Unstop and the Quiz Masters The\\xa0Top Quizzer of the season\\xa0gets a cash prize of\\xa0INR 1,00,000 The\\xa0Runner-Up\\xa0gets a cash prize of\\xa0INR 50,000 The\\xa0Second Runner-Up\\xa0gets a cash prize of\\xa0INR 30,000 Each finalist gets a cash prize of\\xa0INR 5000 Participants securing\\xa0ranks between 7th to 10th\\xa0will receive an\\xa0Amazon Gift Voucher worth INR 4000! Participants securing\\xa0ranks between 11th to 30th\\xa0will receive an\\xa0Amazon Gift Voucher worth INR 3000! Participants securing\\xa0ranks between 31st to 60th\\xa0will receive an\\xa0Amazon Gift Voucher worth INR 2000! Participants securing\\xa0ranks between 61st to 100th\\xa0will receive an\\xa0Amazon Gift Voucher worth INR 1000! Each\\xa0correct question to get 10 coins\\xa0which are then redeemable on the\\xa0Unstop Coin Store The\\xa0Quizzer of the Day\\xa0gets an\\xa0OTT Play Subscription All Participants get an exclusive discount on\\xa0Unstop PRO https://linktr.ee/itjobsdrive https://t.me/placementkit Instagram YouTube LinkedIn Fresher Job's (256) Government Job's (7) Home (313) Internships (25) Software / IT Job's (245) Work From Home (4) Wipro Off Campus Drive 2023 Hiring For System Engineer | Mumbaiby Job for Fresher Amazon Hiring For Freshers | For Catalog Associate | Apply Here !by Job for Fresher Mivi Off Campus Drive 2023 | For Graduate Engineer Trainee | Apply Now !by Job for Fresher World’s Biggest Cricket Quiz Festivalby Job for Fresher Home Fresher Job’s Internships Software / IT Job’s Government Job’s Work From Home \""
      ]
     },
     "execution_count": 88,
     "metadata": {},
     "output_type": "execute_result"
    }
   ],
   "source": [
    "all_responsibilities"
   ]
  },
  {
   "cell_type": "code",
   "execution_count": null,
   "id": "443acdfa-ec62-4343-9e34-73d2676290f6",
   "metadata": {},
   "outputs": [],
   "source": []
  },
  {
   "cell_type": "code",
   "execution_count": 81,
   "id": "6d0ecedd-7f9d-4ea1-af6e-829d9b587b99",
   "metadata": {},
   "outputs": [
    {
     "name": "stdout",
     "output_type": "stream",
     "text": [
      "Home Fresher Job’s Internships Software / IT Job’s Government Job’s Work From Home All that you need to know about World’s Biggest Cricket Quiz Festival World’s Biggest Cricket Quiz Festival With 48 matches happening in the ICC World Cup 2023, there will be a quiz around every match spread across 45 days. Participants have to answer 6 cricket based questions in 5 minutes. One of the 6 questions will be based on the teams playing on the day itself. The quiz can be taken at any point in the 15-minute window. Unlike your favorite cricket team, you play these quizzes as individuals You can attempt each quiz only once All participants to maintain a streak of 10 quizzes (not necessarily win) in order to be eligible to win prizes. World’s Biggest Cricket Quiz Festival You get to earn 2x Points on the day of Indian matches Unstop to conduct a Grand Finale round with the top 6 participants before the actual final of the World Cup Top of the leaderboard wins All the questions will be related to cricket and cricket only All decisions in the matter of scores & final judgment will be with Unstop and the Quiz Masters The Top Quizzer of the season gets a cash prize of INR 1,00,000 The Runner-Up gets a cash prize of INR 50,000 The Second Runner-Up gets a cash prize of INR 30,000 Each finalist gets a cash prize of INR 5000 Participants securing ranks between 7th to 10th will receive an Amazon Gift Voucher worth INR 4000! Participants securing ranks between 11th to 30th will receive an Amazon Gift Voucher worth INR 3000! Participants securing ranks between 31st to 60th will receive an Amazon Gift Voucher worth INR 2000! Participants securing ranks between 61st to 100th will receive an Amazon Gift Voucher worth INR 1000! Each correct question to get 10 coins which are then redeemable on the Unstop Coin Store The Quizzer of the Day gets an OTT Play Subscription All Participants get an exclusive discount on Unstop PRO https://linktr.ee/itjobsdrive https://t.me/placementkit Instagram YouTube LinkedIn Fresher Job's (256) Government Job's (7) Home (313) Internships (25) Software / IT Job's (245) Work From Home (4) Wipro Off Campus Drive 2023 Hiring For System Engineer | Mumbaiby Job for Fresher Amazon Hiring For Freshers | For Catalog Associate | Apply Here !by Job for Fresher Mivi Off Campus Drive 2023 | For Graduate Engineer Trainee | Apply Now !by Job for Fresher World’s Biggest Cricket Quiz Festivalby Job for Fresher Home Fresher Job’s Internships Software / IT Job’s Government Job’s Work From Home \n"
     ]
    }
   ],
   "source": [
    "l=soup1.find_all(\"ul\")\n",
    "all_responsibilities = \"\"\n",
    "for ul in l:\n",
    "    li_elements = ul.find_all('li')\n",
    "    for li in li_elements:\n",
    "        responsibility = li.text.strip()\n",
    "        all_responsibilities += responsibility + \" \"\n",
    "print(all_responsibilities)"
   ]
  },
  {
   "cell_type": "code",
   "execution_count": 82,
   "id": "c3fdfdb0-3200-4bc8-93c1-44a306b0781e",
   "metadata": {},
   "outputs": [
    {
     "data": {
      "text/plain": [
       "[<li class=\"menu-item menu-item-type-taxonomy menu-item-object-category current-post-ancestor current-menu-parent current-post-parent menu-item-113\"><a href=\"https://jobforfresher.in/category/home/\">Home</a></li>,\n",
       " <li class=\"menu-item menu-item-type-taxonomy menu-item-object-category menu-item-111\"><a href=\"https://jobforfresher.in/category/fresher-jobs/\">Fresher Job’s</a></li>,\n",
       " <li class=\"menu-item menu-item-type-taxonomy menu-item-object-category menu-item-114\"><a href=\"https://jobforfresher.in/category/internships/\">Internships</a></li>,\n",
       " <li class=\"menu-item menu-item-type-taxonomy menu-item-object-category menu-item-115\"><a href=\"https://jobforfresher.in/category/software-it-jobs/\">Software / IT Job’s</a></li>,\n",
       " <li class=\"menu-item menu-item-type-taxonomy menu-item-object-category menu-item-112\"><a href=\"https://jobforfresher.in/category/government-jobs/\">Government Job’s</a></li>,\n",
       " <li class=\"menu-item menu-item-type-taxonomy menu-item-object-category menu-item-116\"><a href=\"https://jobforfresher.in/category/work-from-home/\">Work From Home</a></li>]"
      ]
     },
     "execution_count": 82,
     "metadata": {},
     "output_type": "execute_result"
    }
   ],
   "source": [
    "li_elements"
   ]
  },
  {
   "cell_type": "code",
   "execution_count": 98,
   "id": "38d32fe2-516e-4005-8dea-2d7e5796b243",
   "metadata": {},
   "outputs": [
    {
     "data": {
      "text/plain": [
       "['https://careers.wipro.com/careers-home/jobs/3025922',\n",
       " 'https://www.amazon.jobs/en-gb/jobs/2457149/catalog-associate-french-amazon',\n",
       " 'https://bit.ly/3rRy6NG',\n",
       " 'Error: list index out of range',\n",
       " 'https://career.infosys.com/jobdesc?jobReferenceCode=PROGEN-EXTERNAL-152939&source=44003',\n",
       " 'https://www.linkedin.com/posts/dhamini-kr-619a40210_mumbai-ba-bcom-activity-7117894852863803392-UNEW?utm_source=share&utm_medium=member_desktop',\n",
       " 'https://www.globallogic.com/careers/associate-analyst-irc196420/']"
      ]
     },
     "execution_count": 98,
     "metadata": {},
     "output_type": "execute_result"
    }
   ],
   "source": [
    "apply_links"
   ]
  },
  {
   "cell_type": "code",
   "execution_count": 99,
   "id": "34ff5d90-20ee-4e2e-bc5d-a2bad16cf955",
   "metadata": {},
   "outputs": [
    {
     "data": {
      "text/plain": [
       "['Wipro',\n",
       " 'System Engineer',\n",
       " 'BE, B Tech, ME, M Tech, MCA, BSC, BCA',\n",
       " 'Any Branches',\n",
       " '2019, 2020, 2021, 2022 & 2023',\n",
       " 'INR 4.3\\xa0LPA*',\n",
       " 'Fresher (0 – 2)',\n",
       " 'Mumbai',\n",
       " 'Amazon',\n",
       " 'Catalog Associate',\n",
       " 'Any Graduate',\n",
       " 'Any Branches',\n",
       " '2018, 2019, 2020, 2021, 2022 & 2023',\n",
       " 'INR 5 LPA*',\n",
       " 'Fresher (0 – 2)',\n",
       " 'Bengaluru',\n",
       " 'Mivi',\n",
       " 'Graduate Engineer Trainee',\n",
       " 'Any Bachelor’s Degree',\n",
       " 'Any Branches',\n",
       " 'Any Batches Eligible',\n",
       " 'INR 2.3 LPA*',\n",
       " 'Fresher (0 – 2)',\n",
       " 'Hyderabad',\n",
       " 'Infosys',\n",
       " 'Process Executive',\n",
       " 'Any Graduate',\n",
       " 'Any Branches',\n",
       " '2018, 2019, 2020, 2021, 2022 & 2023',\n",
       " 'INR 3.3 LPA*',\n",
       " 'Fresher (0 – 2)',\n",
       " 'Bengaluru',\n",
       " 'TCS',\n",
       " 'Back end operations',\n",
       " 'B COM, BA, BAF, BBI, BBA, BBM, BMS, BSC',\n",
       " 'Any Branches',\n",
       " '2021, 2022 & 2023',\n",
       " 'INR 3.4 LPA*',\n",
       " 'Fresher',\n",
       " 'Mumbai',\n",
       " 'Genpact',\n",
       " 'Data analyst – 4A, SQL',\n",
       " 'Bachelor’s, Graduation Degree or equivalent',\n",
       " 'Any Branches',\n",
       " '2019, 2020, 2021, 2022 & 2023',\n",
       " 'INR 4.9 LPA*',\n",
       " 'Fresher (0 – 2)',\n",
       " 'Bengaluru']"
      ]
     },
     "execution_count": 99,
     "metadata": {},
     "output_type": "execute_result"
    }
   ],
   "source": [
    "details"
   ]
  },
  {
   "cell_type": "code",
   "execution_count": 100,
   "id": "66fd0912-a0ef-491b-856d-288ae11e3a49",
   "metadata": {},
   "outputs": [
    {
     "data": {
      "text/plain": [
       "['Excellent communication skills,\\nAbility to Empathize, pacify and handle Irate Customers withExceptional communication skills.\\nTechnical Knowledge in Troubleshooting Base Operating systemIssues and eager to learn New Technologies.\\nTroubleshooting Windows, Outlook, Teams, Citrix. VDI, VPN,Security App etc. over Remote Support\\nAnswer incoming calls and respond to customer’s emails intimely manner.\\nManage and resolve customer complaints.\\nIdentify and escalate issues to supervisors as and when needed.\\nProvide product and service information to customers.\\nResearch required information using available resources andOffer Solution to customers.\\nResearch, identify, and resolve customer complaints usingapplicable software.\\nRoute calls and tickets to appropriate resources and Domains whocan best support he user,\\nDocument all call information according to standard operatingprocedures.\\nRecognize, document, and alert the management team of trends incustomer calls.\\nCreate SOPs for new Issues and resolution given.\\nComplete call logs and reports',\n",
       " 'DELF B1 or above in French (fresher/with work experience).\\n0 to 24 months of working experience in online retail operations or similar fields.\\nProficiency in French and American English.\\nStrong language proficiency in verbal, writing, reading, and comprehension.\\nStrong working knowledge of basic computer business applications such as MS Word and MS Excel, Outlook.\\nStrong background in web search and familiarity with various methods for searching information.\\nGood data analysis skills and great attention to detail.\\nFamiliarity with online retail (e-commerce) and Internet search industries.\\nWillingness to work with sensitive issues, including but not limited to adult content, religious, and philosophically sensitive issues.',\n",
       " 'We are looking for Graduate Engineer Trainees to join our Process Engineering team who will be part of setting up production lines and ramp-up mass production.\\nProduction line setup, qualification, ramp-up and introduction of mass production.\\nProduct Yield improvement through failure analysis by providing CAPA.\\nNew product proto-run &Proto part approval process after that same as pilot run.\\nConduct regular CFT/NPI meetings to ensure communication between all regarding the project\\xa0\\nReview and Control the Release of all NPI-related documents.\\nKnowledge, Skills, Education, and Experience:\\nFreshers with Bachelor’s degree in Engineering (Preferred specialization in EEE, ECE &\\xa0\\nMechanical)\\nProven leadership and team management skills.\\nExcellent problem-solving and analytical abilities.\\nExceptional communication and interpersonal skills.\\nDetail-oriented and committed to delivering high-quality results.',\n",
       " 'With 48 matches happening in the\\xa0ICC World Cup 2023, there will be a\\xa0quiz around every match spread across 45 days.\\nParticipants have to answer 6 cricket based questions\\xa0in 5 minutes.\\xa0\\nOne of the 6 questions\\xa0will be based on the teams playing on the day itself.\\nThe quiz can be taken at any point in the\\xa015-minute window.',\n",
       " 'Any Graduate from any stream.\\nAnalytical problem solvers who will understand issues and to resolve customer issues.\\nProblem solving skills and quick thinking to own & resolve customers’ issues independently, thoroughly & efficiently.\\nBeing proactive and show the utmost respect for customer’s time.\\nGood time management, ensuring all contacts with customers add value.\\nExcellent communication skills to attend/resolve client issues on calls/chat/mail.\\nCommunication scale – CEFR ::C1, C2\\nOpen to work in 24*7 Shifts, voice process, rotational weekly off, work from office environment and candidate should have completed double vaccination completed.',\n",
       " '14th October, Saturday.\\nTCS Yantra Park ,Thane, Mumbai\\n09:00 AM to 11:00 AM\\nFull-time graduates from B Com, BA, BBA, BMS, BBM, BSC(Excluding CS and IT), BAF, BBI, – 2021, 2022 and 2023 Year of Passing only.\\nTCS Application form (Mandatory), Updated Resume, Government ID Proof, 1 Passport Size Photo, All Educational document (Original and Xerox)\\nTCS BPS Walk-in drive for graduates from 2021, 2022 and 2023 batch pass outs freshers only.',\n",
       " 'The individual should have the ability to understand and carry out the allocated tasks and responsibilities in a timely and consistent manner and deliver results so as to exceed one’s own standards.\\nTeam player with exceptional interpersonal and solution-oriented attitude\\nStrong attention to detail\\nFresher or up to 2 years of industry experience\\nExcellent written skills\\nMust possess any graduation degree (Must have Provisional Certificate and Consolidated Marks Memo)\\nMust be willing to work from office & in rotational shifts (5 Working Days & 2 Week Offs)\\nMust be ready to join immediately']"
      ]
     },
     "execution_count": 100,
     "metadata": {},
     "output_type": "execute_result"
    }
   ],
   "source": [
    "Responsibilities_For_Candidates"
   ]
  },
  {
   "cell_type": "code",
   "execution_count": 8,
   "id": "b3ade1db-acea-47ef-af82-937fa394220a",
   "metadata": {},
   "outputs": [
    {
     "data": {
      "text/plain": [
       "'https://jobforfresher.in/worlds-biggest-cricket-quiz-festival/'"
      ]
     },
     "execution_count": 8,
     "metadata": {},
     "output_type": "execute_result"
    }
   ],
   "source": [
    "IT_JOB_LINKS.pop(3)"
   ]
  },
  {
   "cell_type": "code",
   "execution_count": 10,
   "id": "e08fd9ba-c21e-4c02-be14-227b5d8246bd",
   "metadata": {},
   "outputs": [
    {
     "data": {
      "text/plain": [
       "['https://jobforfresher.in/wipro-off-campus-drive-2023-hiring-for-system-engineer/',\n",
       " 'https://jobforfresher.in/amazon-hiring-for-freshers/',\n",
       " 'https://jobforfresher.in/mivi-off-campus-drive-2023/',\n",
       " 'https://jobforfresher.in/infosys-recruitment-2023/',\n",
       " 'https://jobforfresher.in/tcs-walk-in-drive-2023-hiring/',\n",
       " 'https://jobforfresher.in/genpact-careers-off-campus-drive-2023/']"
      ]
     },
     "execution_count": 10,
     "metadata": {},
     "output_type": "execute_result"
    }
   ],
   "source": [
    "IT_JOB_LINKS"
   ]
  },
  {
   "cell_type": "code",
   "execution_count": 11,
   "id": "2816375a-2915-43d1-a38b-5c94a22b51bc",
   "metadata": {},
   "outputs": [],
   "source": [
    "Dates=[]\n"
   ]
  },
  {
   "cell_type": "code",
   "execution_count": 16,
   "id": "67468cf1-a63b-4e4e-b657-329c6ea1fec4",
   "metadata": {},
   "outputs": [
    {
     "data": {
      "text/plain": [
       "['15/10/2023',\n",
       " '14/10/2023',\n",
       " '14/10/2023',\n",
       " '14/10/2023',\n",
       " '12/10/2023',\n",
       " '10/10/2023']"
      ]
     },
     "execution_count": 16,
     "metadata": {},
     "output_type": "execute_result"
    }
   ],
   "source": [
    "Dates"
   ]
  },
  {
   "cell_type": "code",
   "execution_count": null,
   "id": "e5e6302b-0080-4110-924a-b7697048d9c9",
   "metadata": {},
   "outputs": [],
   "source": []
  }
 ],
 "metadata": {
  "kernelspec": {
   "display_name": "Python 3 (ipykernel)",
   "language": "python",
   "name": "python3"
  },
  "language_info": {
   "codemirror_mode": {
    "name": "ipython",
    "version": 3
   },
   "file_extension": ".py",
   "mimetype": "text/x-python",
   "name": "python",
   "nbconvert_exporter": "python",
   "pygments_lexer": "ipython3",
   "version": "3.11.4"
  }
 },
 "nbformat": 4,
 "nbformat_minor": 5
}
