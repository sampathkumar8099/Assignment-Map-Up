{
 "cells": [
  {
   "cell_type": "code",
   "execution_count": 1,
   "id": "b6a9020e-7d73-4d16-beff-7d8fd7c25343",
   "metadata": {},
   "outputs": [],
   "source": [
    "from bs4 import BeautifulSoup\n",
    "import requests\n",
    "base_url = 'https://jobforfresher.in/category/home/page/2/'\n",
    "response= requests.get(base_url)\n",
    "soup = BeautifulSoup(response.text, 'html.parser')"
   ]
  },
  {
   "cell_type": "code",
   "execution_count": 3,
   "id": "5c1cad28-93b1-4d87-a514-cd4a76d7e434",
   "metadata": {},
   "outputs": [],
   "source": [
    "it_job_links=soup.find_all(\"div\",{\"class\":\"gb-grid-column-f28a19ce\"})\n",
    "date=soup.find_all(\"time\",{\"class\":\"entry-date published\"})"
   ]
  },
  {
   "cell_type": "code",
   "execution_count": 4,
   "id": "2cdf5023-3bea-4369-a432-8be11bb3406b",
   "metadata": {},
   "outputs": [
    {
     "name": "stdout",
     "output_type": "stream",
     "text": [
      "19/10/2023\n",
      "18/10/2023\n",
      "18/10/2023\n",
      "18/10/2023\n",
      "15/10/2023\n",
      "14/10/2023\n",
      "14/10/2023\n",
      "04/08/2023\n",
      "19/07/2023\n",
      "24/06/2023\n",
      "23/06/2023\n",
      "22/06/2023\n",
      "20/06/2023\n",
      "19/06/2023\n",
      "19/10/2023\n",
      "18/10/2023\n",
      "18/10/2023\n",
      "15/10/2023\n",
      "14/10/2023\n",
      "14/10/2023\n",
      "14/10/2023\n",
      "08/10/2023\n",
      "19/09/2023\n",
      "17/09/2023\n",
      "22/08/2023\n",
      "17/08/2023\n",
      "05/08/2023\n",
      "03/08/2023\n",
      "24/09/2023\n",
      "24/07/2023\n",
      "16/07/2023\n",
      "17/06/2023\n",
      "19/10/2023\n",
      "18/10/2023\n",
      "18/10/2023\n",
      "15/10/2023\n",
      "14/10/2023\n",
      "14/10/2023\n",
      "14/10/2023\n"
     ]
    }
   ],
   "source": [
    "a=\"12/10/2023\"\n",
    "IT_JOB_LINKS= []\n",
    "for i in date:\n",
    "    print(i.text)\n",
    "        "
   ]
  },
  {
   "cell_type": "code",
   "execution_count": 4,
   "id": "8806e624-4a13-4b52-bd95-ff7535212274",
   "metadata": {},
   "outputs": [],
   "source": [
    "IT_JOB_LINKS= []\n",
    "for i in it_job_links:\n",
    "    link=i.find(\"a\").get('href')\n",
    "    IT_JOB_LINKS.append(link)\n"
   ]
  },
  {
   "cell_type": "code",
   "execution_count": 5,
   "id": "117704e8-f94c-4a92-bf00-2fd955c50ca0",
   "metadata": {},
   "outputs": [
    {
     "data": {
      "text/plain": [
       "[]"
      ]
     },
     "execution_count": 5,
     "metadata": {},
     "output_type": "execute_result"
    }
   ],
   "source": [
    "IT_JOB_LINKS"
   ]
  },
  {
   "cell_type": "code",
   "execution_count": 15,
   "id": "f0cd4d1b-0cc5-40c6-afff-cc524e291a75",
   "metadata": {},
   "outputs": [],
   "source": [
    "details=[]\n",
    "apply_links=[]\n",
    "Responsibilities_For_Candidates=[]\n",
    "for i in range(4):\n",
    "    base_url1 = IT_JOB_LINKS[i]\n",
    "    response1=requests.get(base_url1)\n",
    "    soup1 = BeautifulSoup(response1.text, 'html.parser')\n",
    "    for tr in soup1.find_all(\"tr\"):\n",
    "        value = tr.find_all(\"td\")[1].text.strip()\n",
    "        details.append(value)\n",
    "    apply_link=(soup1.find_all(\"span\",{\"style\":\"color: #0000ff;\"})[3]).a[\"href\"]\n",
    "    apply_links.append(apply_link)\n",
    "    l=soup1.find_all(\"ul\")[2].text.strip()\n",
    "    Responsibilities_For_Candidates.append(l)"
   ]
  },
  {
   "cell_type": "code",
   "execution_count": 8,
   "id": "d60b71b3-5105-484e-8f8b-f7ec9d1e41b9",
   "metadata": {},
   "outputs": [
    {
     "ename": "NameError",
     "evalue": "name 'company_names' is not defined",
     "output_type": "error",
     "traceback": [
      "\u001b[1;31m---------------------------------------------------------------------------\u001b[0m",
      "\u001b[1;31mNameError\u001b[0m                                 Traceback (most recent call last)",
      "Cell \u001b[1;32mIn[8], line 1\u001b[0m\n\u001b[1;32m----> 1\u001b[0m \u001b[38;5;28mlen\u001b[39m(\u001b[43mcompany_names\u001b[49m)\n",
      "\u001b[1;31mNameError\u001b[0m: name 'company_names' is not defined"
     ]
    }
   ],
   "source": [
    "len(company_names)"
   ]
  },
  {
   "cell_type": "code",
   "execution_count": 87,
   "id": "aeeba495-22b6-4917-912a-b0f107565cb4",
   "metadata": {},
   "outputs": [
    {
     "data": {
      "text/plain": [
       "7"
      ]
     },
     "execution_count": 87,
     "metadata": {},
     "output_type": "execute_result"
    }
   ],
   "source": [
    "len(job_roles)"
   ]
  },
  {
   "cell_type": "code",
   "execution_count": 88,
   "id": "c2549dc9-48ac-42ac-ac72-9dba1cde833c",
   "metadata": {},
   "outputs": [
    {
     "data": {
      "text/plain": [
       "7"
      ]
     },
     "execution_count": 88,
     "metadata": {},
     "output_type": "execute_result"
    }
   ],
   "source": [
    "len(apply_links)"
   ]
  },
  {
   "cell_type": "code",
   "execution_count": 93,
   "id": "1451afcd-ec52-40fd-85ee-14658ab6e3e2",
   "metadata": {},
   "outputs": [],
   "source": [
    "import pandas as pd\n",
    "drive_details={\"company_names\":company_names,\"job_roles\":job_roles,\"apply_links\":apply_links}\n",
    "drive=r\"C:\\Users\\hp\\Desktop\\python_files\\drive_details.xlsx\"\n",
    "drive1=pd.DataFrame(drive_details)\n",
    "drive1.to_excel(drive,index=False)\n"
   ]
  },
  {
   "cell_type": "code",
   "execution_count": 9,
   "id": "7cf1df6f-e18e-42d9-bee2-807aa3a06f9c",
   "metadata": {},
   "outputs": [
    {
     "data": {
      "text/plain": [
       "['Siemens',\n",
       " 'Graduate Trainee Engineer',\n",
       " 'Any Graduate',\n",
       " 'Any Branches',\n",
       " '2019, 2020, 2021, 2022 & 2023',\n",
       " 'INR 4 LPA*',\n",
       " 'Fresher (0 – 2)',\n",
       " 'Pune']"
      ]
     },
     "execution_count": 9,
     "metadata": {},
     "output_type": "execute_result"
    }
   ],
   "source": [
    "details"
   ]
  },
  {
   "cell_type": "code",
   "execution_count": 95,
   "id": "6589b0ab-5e43-44a0-8d8d-6d9b1ab7c5a4",
   "metadata": {},
   "outputs": [],
   "source": [
    "hii=1"
   ]
  },
  {
   "cell_type": "code",
   "execution_count": 98,
   "id": "f229f939-be8a-49a5-8bcf-f609739dcb2e",
   "metadata": {},
   "outputs": [],
   "source": [
    "Company_Name=[]\n",
    "Job_Role=[]\n",
    "Qualification=[]\n",
    "Branch=[]\n",
    "Batch=[]\n",
    "Salary=[]\n",
    "Experience=[]\n",
    "Location=[]"
   ]
  },
  {
   "cell_type": "code",
   "execution_count": 18,
   "id": "0379789c-d595-4d89-b855-104ba48cc64d",
   "metadata": {},
   "outputs": [],
   "source": [
    "Company_Name=details[0::8]\n",
    "Job_Role=details[1::8]\n",
    "Qualification=details[2::8]\n",
    "Branch=details[3::8]\n",
    "Batch=details[4::8]\n",
    "Salary=details[5::8]\n",
    "Experience=details[6::8]\n",
    "Location=details[7::8]"
   ]
  },
  {
   "cell_type": "code",
   "execution_count": 19,
   "id": "1a545931-e456-412d-9498-ac06e5aeb892",
   "metadata": {},
   "outputs": [],
   "source": [
    "drive_details={\"Company_Name\":Company_Name,\"Job_Role\":Job_Role,\"Qualification\":Qualification,\"Branch\":Branch,\"Batch\":Batch,\"Salary\":Salary,\"Experience\":Experience,\"Location\":Location,\"Responsibilities_For_Candidates\":Responsibilities_For_Candidates,\"apply_links\":apply_links}"
   ]
  },
  {
   "cell_type": "code",
   "execution_count": 20,
   "id": "0faed93a-70a4-47d1-be33-030b22bae668",
   "metadata": {},
   "outputs": [],
   "source": [
    "drive=r\"C:\\Users\\hp\\Desktop\\python_files\\drive_details.xlsx\"\n",
    "drive1=pd.DataFrame(drive_details)\n",
    "drive1.to_excel(drive,index=False)"
   ]
  },
  {
   "cell_type": "code",
   "execution_count": 4,
   "id": "56302537-c8bd-4e57-8f91-6f554615dad0",
   "metadata": {},
   "outputs": [],
   "source": [
    "date=soup.find_all(\"time\",{\"class\":\"entry-date published\"})"
   ]
  },
  {
   "cell_type": "code",
   "execution_count": 10,
   "id": "cf09c6ff-81d4-4cc4-bae2-60d2c4727689",
   "metadata": {},
   "outputs": [
    {
     "data": {
      "text/plain": [
       "'12/10/2023'"
      ]
     },
     "execution_count": 10,
     "metadata": {},
     "output_type": "execute_result"
    }
   ],
   "source": [
    "date[0].text"
   ]
  },
  {
   "cell_type": "code",
   "execution_count": 24,
   "id": "668cf627-270e-44f5-812f-ca4fbd91c957",
   "metadata": {},
   "outputs": [
    {
     "data": {
      "text/plain": [
       "['https://jobforfresher.in/tcs-walk-in-drive-2023-hiring/',\n",
       " 'https://jobforfresher.in/genpact-careers-off-campus-drive-2023/',\n",
       " 'https://jobforfresher.in/globallogic-careers-off-campus-drive-2023/',\n",
       " 'https://jobforfresher.in/emerson-hiring-drive-2023/',\n",
       " 'https://jobforfresher.in/unisys-hiring-drive-2023/',\n",
       " 'https://jobforfresher.in/cisco-is-hiring/',\n",
       " 'https://jobforfresher.in/cognizant-off-campus-drive-2023/',\n",
       " 'https://jobforfresher.in/tcs-walk-in-drive-2023-hiring/',\n",
       " 'https://jobforfresher.in/genpact-careers-off-campus-drive-2023/',\n",
       " 'https://jobforfresher.in/globallogic-careers-off-campus-drive-2023/',\n",
       " 'https://jobforfresher.in/emerson-hiring-drive-2023/',\n",
       " 'https://jobforfresher.in/unisys-hiring-drive-2023/',\n",
       " 'https://jobforfresher.in/cisco-is-hiring/',\n",
       " 'https://jobforfresher.in/cognizant-off-campus-drive-2023/',\n",
       " 'https://jobforfresher.in/tcs-walk-in-drive-2023-hiring/',\n",
       " 'https://jobforfresher.in/genpact-careers-off-campus-drive-2023/',\n",
       " 'https://jobforfresher.in/globallogic-careers-off-campus-drive-2023/',\n",
       " 'https://jobforfresher.in/emerson-hiring-drive-2023/',\n",
       " 'https://jobforfresher.in/unisys-hiring-drive-2023/',\n",
       " 'https://jobforfresher.in/cisco-is-hiring/',\n",
       " 'https://jobforfresher.in/cognizant-off-campus-drive-2023/']"
      ]
     },
     "execution_count": 24,
     "metadata": {},
     "output_type": "execute_result"
    }
   ],
   "source": [
    "IT_JOB_LINKS"
   ]
  },
  {
   "cell_type": "code",
   "execution_count": 9,
   "id": "4a825b60-0bf4-4f56-961c-a75196603700",
   "metadata": {},
   "outputs": [],
   "source": [
    "from bs4 import BeautifulSoup\n",
    "import requests\n",
    "\n",
    "# Replace 'your_url_here' with the URL of the webpage containing job listings\n",
    "url = 'https://jobforfresher.in/'\n",
    "\n",
    "# Make a request to the URL and create a BeautifulSoup object\n",
    "response = requests.get(url)\n",
    "soup = BeautifulSoup(response.text, 'html.parser')\n",
    "\n",
    "# Specify the date you want to match\n",
    "specified_date = '10/10/2023'  # Replace with the date you're interested in\n",
    "\n",
    "# Find all job links and their corresponding dates\n",
    "job_links = soup.find_all(\"div\", {\"class\": \"gb-grid-column-f28a19ce\"})\n",
    "dates = soup.find_all(\"time\", {\"class\": \"entry-date published\"})\n",
    "\n",
    "# Iterate through the job links and dates\n",
    "for link, date in zip(job_links, dates):\n",
    "    job_date = date.text.strip()\n",
    "    \n",
    "    # Check if the job date matches the specified date\n",
    "    if job_date == 10/10/2023:\n",
    "        job_link = link.find('a')['href']\n",
    "        \n",
    "        # Scrape the details of the job using the job_link\n",
    "        # You can add your scraping code here to extract the job details\n",
    "        print(f\"Scraping job on {specified_date}: {job_link}\")\n",
    "        \n",
    "    else:\n",
    "        # If the dates don't match, you can break out of the loop\n",
    "        break\n"
   ]
  },
  {
   "cell_type": "code",
   "execution_count": 8,
   "id": "5e39c404-1c67-4958-91e5-a1f1478ed83e",
   "metadata": {},
   "outputs": [],
   "source": [
    "\n",
    "# Specify the date you want to match\n",
    "specified_date = '14/10/2023'  # Replace with the date you're interested in\n",
    "\n",
    "# Find all job links and their corresponding dates\n",
    "job_links = soup.find_all(\"div\", {\"class\": \"gb-grid-column-f28a19ce\"})\n",
    "dates = soup.find_all(\"time\", {\"class\": \"entry-date published\"})\n",
    "\n",
    "# Iterate through the job links and dates\n",
    "for link, date in zip(job_links, dates):\n",
    "    job_date = date.text.strip()\n",
    "    \n",
    "    # Check if the job date matches the specified date\n",
    "    if job_date == specified_date:\n",
    "        job_link = link.find('a')['href']\n",
    "   "
   ]
  },
  {
   "cell_type": "code",
   "execution_count": 7,
   "id": "5965b249-adcf-493f-857e-d2b5d8137422",
   "metadata": {},
   "outputs": [
    {
     "data": {
      "text/plain": [
       "<div class=\"gb-grid-column gb-grid-column-f28a19ce gb-query-loop-item post-1753 post type-post status-publish format-standard has-post-thumbnail hentry category-home category-fresher-jobs category-software-it-jobs tag-infosys-recruitment-2023\"><div class=\"gb-container gb-container-f28a19ce\">\n",
       "<h2 class=\"gb-headline gb-headline-2ff390ac gb-headline-text\"><a href=\"https://jobforfresher.in/infosys-recruitment-2023/\">Infosys Recruitment 2023 | For Process Executive | Apply Now !</a></h2>\n",
       "<p class=\"gb-headline gb-headline-60b0fbe0 gb-headline-text\"><time class=\"entry-date published\" datetime=\"2023-10-14T12:25:21+05:30\">14/10/2023</time></p></div></div>"
      ]
     },
     "execution_count": 7,
     "metadata": {},
     "output_type": "execute_result"
    }
   ],
   "source": [
    "job_links[0]"
   ]
  },
  {
   "cell_type": "code",
   "execution_count": 13,
   "id": "93dddb06-3b01-4448-9ec8-e4a99598fa7c",
   "metadata": {},
   "outputs": [],
   "source": [
    "import pandas as pd"
   ]
  },
  {
   "cell_type": "code",
   "execution_count": null,
   "id": "a7f6621f-fa63-40f8-95ed-0dd4e7fc82a6",
   "metadata": {},
   "outputs": [],
   "source": []
  }
 ],
 "metadata": {
  "kernelspec": {
   "display_name": "Python 3 (ipykernel)",
   "language": "python",
   "name": "python3"
  },
  "language_info": {
   "codemirror_mode": {
    "name": "ipython",
    "version": 3
   },
   "file_extension": ".py",
   "mimetype": "text/x-python",
   "name": "python",
   "nbconvert_exporter": "python",
   "pygments_lexer": "ipython3",
   "version": "3.11.4"
  }
 },
 "nbformat": 4,
 "nbformat_minor": 5
}
