{
 "cells": [
  {
   "cell_type": "code",
   "execution_count": 1,
   "id": "4d49d9bb-0752-4ea3-91bd-e36f131a022c",
   "metadata": {},
   "outputs": [],
   "source": [
    "from bs4 import BeautifulSoup as bs\n",
    "import requests"
   ]
  },
  {
   "cell_type": "code",
   "execution_count": 2,
   "id": "3e34218a-3e9c-444d-81cd-2698e396a331",
   "metadata": {},
   "outputs": [],
   "source": [
    "def scrape_joblinks(url):\n",
    "    response=requests.get(url)\n",
    "    soup=bs(response.text,\"html.parser\")\n",
    "    jobs=soup.find_all(\"h2\",{\"class\":\"blog-entry-title entry-title\"})\n",
    "    for i in jobs:\n",
    "        link=i.find(\"a\").get(\"href\")\n",
    "        Job_links.append(link)"
   ]
  },
  {
   "cell_type": "code",
   "execution_count": null,
   "id": "01549c73-972f-4378-a6ec-aff14f65b7b6",
   "metadata": {},
   "outputs": [],
   "source": [
    "\n",
    "hii=1\n",
    "print(hii)"
   ]
  },
  {
   "cell_type": "code",
   "execution_count": 3,
   "id": "79317752-a8eb-435b-a09a-c33a0dbf452e",
   "metadata": {},
   "outputs": [],
   "source": [
    "initial_url=\"https://quizxp.com/\"\n",
    "Job_links=[]\n",
    "scrape_joblinks(initial_url)\n",
    "max_page_count=5\n",
    "current_page_count=1\n",
    "response=requests.get(initial_url)\n",
    "soup=bs(response.text,\"html.parser\")\n",
    "next_page=soup.find_all(\"a\",{\"class\":\"page-numbers\"})"
   ]
  },
  {
   "cell_type": "code",
   "execution_count": 7,
   "id": "7410d655-680f-4238-9f86-3428a7a9b437",
   "metadata": {},
   "outputs": [],
   "source": [
    "while next_page and current_page_count<=max_page_count:\n",
    "    current_page_count+=1\n",
    "    a=next_page.get(\"href\")\n",
    "    if a:\n",
    "        scrape_joblinks(a)\n",
    "        response = requests.get(a)\n",
    "        soup = bs(response.text, \"html.parser\")\n",
    "        next_page = soup.find(\"a\", class_=\"next page-numbers\")  # Check for the \"Next\" button on the new page\n",
    "    else:\n",
    "        break"
   ]
  },
  {
   "cell_type": "code",
   "execution_count": null,
   "id": "f794e704-009a-4418-871d-56c45e51d8be",
   "metadata": {},
   "outputs": [],
   "source": [
    "details=[]\n",
    "dates=[]\n",
    "applly_link=[]\n",
    "for i in Job_links:\n",
    "    url=i\n",
    "    response=requests.get(url)\n",
    "    soup=bs(response.text,\"html.parser\")\n",
    "    job_details_soup=soup.find(\"tbody\")\n",
    "    try:\n",
    "        for i in job_details_soup(\"tr\"):\n",
    "            cells = i.find_all(\"td\")\n",
    "            value = cells[1].text.strip()\n",
    "            details.append(value)\n",
    "    except Exception as e:\n",
    "        for i in range(10):\n",
    "            details.append(\"Not_Available\")\n",
    "    date=soup.find(\"time\").get(\"content\")\n",
    "    dates.append(date)\n",
    "    apply_link_soup=soup.find_all(\"p\")\n",
    "    for i in apply_link_soup:\n",
    "        if i.text=='To Apply:\\xa0Click here':\n",
    "            link=i.find(\"a\")[\"href\"]\n",
    "            applly_link.append(link)\n",
    "    \n",
    "    \n",
    "    \n",
    "    \n",
    "    \n",
    "    \n",
    "    \n",
    "    \n",
    "    \n",
    "    \n",
    "    \n",
    "    "
   ]
  },
  {
   "cell_type": "code",
   "execution_count": 9,
   "id": "68d242a5-3bff-4028-8faa-f06e4be53af8",
   "metadata": {},
   "outputs": [
    {
     "ename": "NameError",
     "evalue": "name 'details' is not defined",
     "output_type": "error",
     "traceback": [
      "\u001b[1;31m---------------------------------------------------------------------------\u001b[0m",
      "\u001b[1;31mNameError\u001b[0m                                 Traceback (most recent call last)",
      "Cell \u001b[1;32mIn[9], line 1\u001b[0m\n\u001b[1;32m----> 1\u001b[0m \u001b[38;5;28mprint\u001b[39m(\u001b[38;5;28mlen\u001b[39m(\u001b[43mdetails\u001b[49m))\n\u001b[0;32m      2\u001b[0m \u001b[38;5;28mprint\u001b[39m(\u001b[38;5;28mlen\u001b[39m(dates))\n\u001b[0;32m      3\u001b[0m \u001b[38;5;28mprint\u001b[39m(\u001b[38;5;28mlen\u001b[39m(applly_link))\n",
      "\u001b[1;31mNameError\u001b[0m: name 'details' is not defined"
     ]
    }
   ],
   "source": [
    "print(len(details))\n",
    "print(len(dates))\n",
    "print(len(applly_link))"
   ]
  },
  {
   "cell_type": "code",
   "execution_count": null,
   "id": "d84c863c-b526-4b97-9424-1267bb219d24",
   "metadata": {},
   "outputs": [],
   "source": []
  },
  {
   "cell_type": "code",
   "execution_count": null,
   "id": "07bc3453-c777-4951-ab6b-4ca02be1588f",
   "metadata": {},
   "outputs": [],
   "source": [
    "for i in Job_links:\n",
    "    url=i\n",
    "    response=requests.get(url)\n",
    "    soup=bs(response.text,\"html.parser\")\n",
    "    job_details_soup=soup.find(\"tbody\")\n",
    "    details=[]\n",
    "    try:\n",
    "        for i in job_details_soup(\"tr\"):\n",
    "            cells = i.find_all(\"td\")\n",
    "            value = cells[1].text.strip()\n",
    "            details.append(value)\n",
    "    except Exception as e:\n",
    "        for i in range(10):\n",
    "            details.app\n",
    "        break\n",
    "    details"
   ]
  },
  {
   "cell_type": "code",
   "execution_count": null,
   "id": "612e2a67-6266-4ac0-9cc8-3edacdaa33c4",
   "metadata": {},
   "outputs": [],
   "source": [
    "url=Job_links[0]\n",
    "response=requests.get(url)\n",
    "soup=bs(response.text,\"html.parser\")\n",
    "Qualification=(soup.find_all(\"ul\"))"
   ]
  },
  {
   "cell_type": "code",
   "execution_count": null,
   "id": "9e12ee92-eff2-405f-baab-006fb1eb86f5",
   "metadata": {},
   "outputs": [],
   "source": [
    "Qualification"
   ]
  },
  {
   "cell_type": "code",
   "execution_count": null,
   "id": "a46403bd-269f-47bb-8d5b-82253e9c2b18",
   "metadata": {},
   "outputs": [],
   "source": [
    "<ul>\n",
    "<li>Post-Graduation (fresher)/Graduation (with experience)</li>\n",
    "<li><strong>Experience:</strong></li>\n",
    "<li>0 to 2.5 years of experience</li>\n",
    "<li>Strong interpersonal and communication skills</li>\n",
    "<li>Excellent communication skills, both written &amp; verbal</li>\n",
    "<li>Good analytical thinking / ability to take decisions</li>\n",
    "<li>Proficient with MS Excel, and Word</li>\n",
    "</ul>"
   ]
  },
  {
   "cell_type": "code",
   "execution_count": null,
   "id": "d200e48d-142a-4d19-afbf-e1970ea508b3",
   "metadata": {},
   "outputs": [],
   "source": [
    "details_ul = [i.find('ul') for i in Qualification]\n",
    "details_list = []\n",
    "if details_ul:\n",
    "        details_li = details_ul.find_all('li')\n",
    "        for li in details_li:\n",
    "            details_list.append(li.get_text())\n",
    "    except Exception as e:\n",
    "        pass\n",
    "\n",
    "# Print the extracted details\n",
    "for detail in details_list:\n",
    "    print(detail)"
   ]
  },
  {
   "cell_type": "code",
   "execution_count": null,
   "id": "bd714f05-dd63-4a5b-9e05-454e4cafa931",
   "metadata": {},
   "outputs": [],
   "source": [
    "details_list"
   ]
  },
  {
   "cell_type": "code",
   "execution_count": null,
   "id": "df87a1dd-a2c9-494f-9245-e6012b88b895",
   "metadata": {},
   "outputs": [],
   "source": [
    "d"
   ]
  },
  {
   "cell_type": "code",
   "execution_count": null,
   "id": "f9f47ee6-b20b-4cbd-9da2-bbe038fab3dd",
   "metadata": {},
   "outputs": [],
   "source": [
    "print(len(Job_links))\n"
   ]
  },
  {
   "cell_type": "code",
   "execution_count": null,
   "id": "81f81f20-6137-4f08-aed1-9c6b7582299c",
   "metadata": {},
   "outputs": [],
   "source": [
    "(applly_link)"
   ]
  },
  {
   "cell_type": "code",
   "execution_count": null,
   "id": "3f0f50fa-15f0-44b9-bf6e-3ee414935ed4",
   "metadata": {},
   "outputs": [],
   "source": [
    "url=\"https://quizxp.com/hcl-walk-in-drive-2023-freshers-any-graduate-hyderabad/\"\n",
    "response=requests.get(url)\n",
    "soup=bs(response.text,\"html.parser\")\n",
    "apply_link_soup=soup.find_all(\"p\")"
   ]
  },
  {
   "cell_type": "code",
   "execution_count": null,
   "id": "5ca47abb-4d87-4c81-a270-492c7ab98cbb",
   "metadata": {},
   "outputs": [],
   "source": [
    "for j in apply_link_soup:\n",
    "        if j.text=='To Apply:\\xa0Click here':\n",
    "            link=j.find(\"a\")[\"href\"]\n",
    "            print(link)"
   ]
  },
  {
   "cell_type": "code",
   "execution_count": null,
   "id": "c71f3e42-6713-49b6-9ec5-b9581ddfe91f",
   "metadata": {},
   "outputs": [],
   "source": [
    "if apply_link_soup[15].text==\"'Apply Link: Click Here'\""
   ]
  },
  {
   "cell_type": "code",
   "execution_count": null,
   "id": "756626f7-98a9-4fdf-a1d2-5ada8ce40963",
   "metadata": {},
   "outputs": [],
   "source": [
    "original_text = \"To Apply:\\xa0Click here\"\n",
    "cleaned_text = original_text.replace('\\xa0', '')\n",
    "print(cleaned_text)"
   ]
  },
  {
   "cell_type": "code",
   "execution_count": null,
   "id": "14cdf5f3-48ff-42fd-b9f8-41842703e6ed",
   "metadata": {},
   "outputs": [],
   "source": [
    "if apply_link_soup[15].text==cleaned_text:\n",
    "    print(\"yes\")\n",
    "else:\n",
    "    print(\"no\")"
   ]
  },
  {
   "cell_type": "code",
   "execution_count": 95,
   "id": "93ef519f-06c3-4ee2-8941-f0462aeb733c",
   "metadata": {},
   "outputs": [],
   "source": [
    "applly_link=[]\n",
    "for i in Job_links:\n",
    "    url=i\n",
    "    response=requests.get(url)\n",
    "    soup=bs(response.text,\"html.parser\")\n",
    "    apply_link_soup=soup.find_all(\"p\")\n",
    "    for j in apply_link_soup:\n",
    "        if j.text=='To Apply:\\xa0Click here' or j.text==\"Apply Link: Click Here\" or j.text==\"Application Link: Click Here\" or j.text==\"To Apply: Click here\":\n",
    "            link=j.find(\"a\")[\"href\"]\n",
    "            applly_link.append(link)"
   ]
  },
  {
   "cell_type": "code",
   "execution_count": 12,
   "id": "0ea3e212-74d7-46a0-9e26-8694cdb8e74b",
   "metadata": {},
   "outputs": [
    {
     "data": {
      "text/plain": [
       "30"
      ]
     },
     "execution_count": 12,
     "metadata": {},
     "output_type": "execute_result"
    }
   ],
   "source": [
    "len(Job_links)"
   ]
  },
  {
   "cell_type": "code",
   "execution_count": 86,
   "id": "5d0a7cbc-5b78-4bca-8cfa-aa38f31621eb",
   "metadata": {},
   "outputs": [
    {
     "data": {
      "text/plain": [
       "25"
      ]
     },
     "execution_count": 86,
     "metadata": {},
     "output_type": "execute_result"
    }
   ],
   "source": [
    "len(applly_link)"
   ]
  },
  {
   "cell_type": "code",
   "execution_count": 14,
   "id": "53aed54c-13d1-461b-aa30-b5958ad2f2c0",
   "metadata": {},
   "outputs": [
    {
     "data": {
      "text/plain": [
       "['Not_available',\n",
       " 'Not_available',\n",
       " 'Not_available',\n",
       " 'Not_available',\n",
       " 'Not_available',\n",
       " 'Not_available',\n",
       " 'Not_available',\n",
       " 'Not_available',\n",
       " 'Not_available',\n",
       " 'Not_available',\n",
       " 'Not_available',\n",
       " 'Not_available',\n",
       " 'Not_available',\n",
       " 'Not_available',\n",
       " 'Not_available',\n",
       " 'Not_available',\n",
       " 'Not_available',\n",
       " 'Not_available',\n",
       " 'Not_available',\n",
       " 'Not_available',\n",
       " 'Not_available',\n",
       " 'Not_available',\n",
       " 'Not_available',\n",
       " 'Not_available',\n",
       " 'Not_available',\n",
       " 'Not_available',\n",
       " 'Not_available',\n",
       " 'Not_available',\n",
       " 'Not_available',\n",
       " 'Not_available']"
      ]
     },
     "execution_count": 14,
     "metadata": {},
     "output_type": "execute_result"
    }
   ],
   "source": [
    "applly_link"
   ]
  },
  {
   "cell_type": "code",
   "execution_count": 87,
   "id": "0a4e207d-da82-416e-9336-527449a76d8b",
   "metadata": {},
   "outputs": [],
   "source": [
    "applly_link=[]\n",
    "url=Job_links[22]\n",
    "response=requests.get(url)\n",
    "soup=bs(response.text,\"html.parser\")\n",
    "apply_link_soup=soup.find_all(\"p\")\n",
    "for j in apply_link_soup:\n",
    "    if j.text=='To Apply:\\xa0Click here' or j.text==\"Apply Link: Click Here\" :\n",
    "        link=j.find(\"a\")[\"href\"]\n",
    "        applly_link.append(link)\n",
    "    else:\n",
    "        pass\n"
   ]
  },
  {
   "cell_type": "code",
   "execution_count": 93,
   "id": "b53ee75f-61e5-431a-b9c2-d61b122f75d8",
   "metadata": {},
   "outputs": [
    {
     "data": {
      "text/plain": [
       "'To Apply: Click here'"
      ]
     },
     "execution_count": 93,
     "metadata": {},
     "output_type": "execute_result"
    }
   ],
   "source": [
    "apply_link_soup[5].text"
   ]
  },
  {
   "cell_type": "code",
   "execution_count": 26,
   "id": "f1be9ffb-4240-4dd9-a5e1-5c9ad8bdb0bb",
   "metadata": {},
   "outputs": [
    {
     "name": "stdout",
     "output_type": "stream",
     "text": [
      "<p class=\"has-small-font-size\"><strong>Atkins Off Campus Drive 2023</strong>: Atkins is seeking a motivated and detail-oriented individual to join our team from 2020/2021/2022/ 2023/ 2024 batch for its hiring process. Bachelors, from any degree can apply for their hiring process. Candidates can start their careers in the Software Industry with Atkins as analyst. Interested and eligible candidates need to apply as soon as possible before the apply date. <em>Amazon latest job notification</em>, Selection process, interview process other details and apply link are given below:</p>\n",
      "<p><a href=\"https://tnpofficer.com/norlox-solutions-off-campus-drive/#\" rel=\"noopener\" target=\"_blank\"></a></p>\n",
      "<p class=\"toc_title\">Contents</p>\n",
      "<p><strong>Company may withdraw the position any time so Candidates should apply as soon as possible before the link gets expired</strong>.</p>\n",
      "<p>Candidate should always read job description and details carefully before applying. </p>\n",
      "<p>Candidates shall meet the criteria for Atkins hiring</p>\n",
      "<p>Interested candidates must follow the following procedure to apply for Off Campus Drive of Atkins 2023</p>\n",
      "<p>We’re AtkinsRéalis, a world-leading Design, Engineering and Project Management organization. Created by the integration of long-standing organizations dating back to 1911, we are a world-leading professional services and project management company dedicated to engineering a better future for our planet and its people. We create sustainable solutions that connect people, data and technology to transform the world’s infrastructure and energy systems. We deploy global capabilities locally to our clients and deliver unique end-to-end services across the whole life cycle of an asset including consulting, advisory &amp; environmental services, intelligent networks &amp; cybersecurity, design &amp; engineering.</p>\n",
      "<p>All the eligible candidates may apply through the given link below for off campus drive of Atkins</p>\n",
      "<p><strong>For regular Off-campus</strong> <strong>job, updates join:- </strong><mark class=\"has-inline-color\" style=\"background-color:rgba(0, 0, 0, 0);color:#ff0000\"><strong><a href=\"https://linktr.ee/quizxp\" rel=\"noopener\" target=\"_blank\">Click Here</a></strong></mark></p>\n",
      "<p><strong>To Apply:</strong> <a href=\"https://careers.atkinsrealis.com/job/trainee-3-months-2020-2021-2022-pass-out-only-in-gurgaon-haryana-jid-33227\" rel=\"noreferrer noopener\" target=\"_blank\">Click here</a></p>\n",
      "<p class=\"comment-notes\"><span id=\"email-notes\">Your email address will not be published.</span> <span class=\"required-field-message\">Required fields are marked <span class=\"required\">*</span></span></p>\n",
      "<p class=\"comment-form-comment\"><label for=\"comment\">Comment <span class=\"required\">*</span></label> <textarea cols=\"45\" id=\"comment\" maxlength=\"65525\" name=\"comment\" required=\"required\" rows=\"8\"></textarea></p>\n",
      "<p class=\"comment-form-author\"><label for=\"author\">Name <span class=\"required\">*</span></label> <input autocomplete=\"name\" id=\"author\" maxlength=\"245\" name=\"author\" required=\"required\" size=\"30\" type=\"text\" value=\"\"/></p>\n",
      "<p class=\"comment-form-email\"><label for=\"email\">Email <span class=\"required\">*</span></label> <input aria-describedby=\"email-notes\" autocomplete=\"email\" id=\"email\" maxlength=\"100\" name=\"email\" required=\"required\" size=\"30\" type=\"text\" value=\"\"/></p>\n",
      "<p class=\"comment-form-url\"><label for=\"url\">Website</label> <input autocomplete=\"url\" id=\"url\" maxlength=\"200\" name=\"url\" size=\"30\" type=\"text\" value=\"\"/></p>\n",
      "<p class=\"comment-form-cookies-consent\"><input id=\"wp-comment-cookies-consent\" name=\"wp-comment-cookies-consent\" type=\"checkbox\" value=\"yes\"> <label for=\"wp-comment-cookies-consent\">Save my name, email, and website in this browser for the next time I comment.</label></input></p>\n",
      "<p class=\"form-submit\"><input class=\"submit\" id=\"submit\" name=\"submit\" type=\"submit\" value=\"Post Comment\"/> <input id=\"comment_post_ID\" name=\"comment_post_ID\" type=\"hidden\" value=\"13454\"/>\n",
      "<input id=\"comment_parent\" name=\"comment_parent\" type=\"hidden\" value=\"0\"/>\n",
      "</p>\n",
      "<p style=\"display: none;\"><input id=\"akismet_comment_nonce\" name=\"akismet_comment_nonce\" type=\"hidden\" value=\"2b782c4a18\"/></p>\n",
      "<p style=\"display: none !important;\"><label>Δ<textarea cols=\"45\" maxlength=\"100\" name=\"ak_hp_textarea\" rows=\"8\"></textarea></label><input id=\"ak_js_1\" name=\"ak_js\" type=\"hidden\" value=\"222\"/><script>document.getElementById( \"ak_js_1\" ).setAttribute( \"value\", ( new Date() ).getTime() );</script></p>\n",
      "<p class=\"widget-title\">Latest Upadate</p>\n",
      "<p class=\"widget-title\">Search Deals &amp; Quiz</p>\n",
      "<p class=\"widget-title\">Join Us</p>\n",
      "<p><a href=\"https://themeisle.com/themes/neve/\" rel=\"nofollow\">Neve</a> | Powered by <a href=\"http://wordpress.org\" rel=\"nofollow\">WordPress</a></p>\n"
     ]
    }
   ],
   "source": [
    "for i in apply_link_soup :\n",
    "    print(i)"
   ]
  },
  {
   "cell_type": "code",
   "execution_count": 34,
   "id": "e83c15a5-6bff-4078-beb6-98f9b84ad6f9",
   "metadata": {},
   "outputs": [
    {
     "ename": "TypeError",
     "evalue": "'NoneType' object is not subscriptable",
     "output_type": "error",
     "traceback": [
      "\u001b[1;31m---------------------------------------------------------------------------\u001b[0m",
      "\u001b[1;31mTypeError\u001b[0m                                 Traceback (most recent call last)",
      "Cell \u001b[1;32mIn[34], line 3\u001b[0m\n\u001b[0;32m      1\u001b[0m \u001b[38;5;28;01mfor\u001b[39;00m j \u001b[38;5;129;01min\u001b[39;00m apply_link_soup:\n\u001b[0;32m      2\u001b[0m     \u001b[38;5;28;01mif\u001b[39;00m j\u001b[38;5;241m.\u001b[39mtext\u001b[38;5;241m==\u001b[39m\u001b[38;5;124m'\u001b[39m\u001b[38;5;124mTo Apply:\u001b[39m\u001b[38;5;130;01m\\xa0\u001b[39;00m\u001b[38;5;124mClick here\u001b[39m\u001b[38;5;124m'\u001b[39m \u001b[38;5;129;01mor\u001b[39;00m \u001b[38;5;124m\"\u001b[39m\u001b[38;5;124mApply Link: Click Here\u001b[39m\u001b[38;5;124m\"\u001b[39m :\n\u001b[1;32m----> 3\u001b[0m         link\u001b[38;5;241m=\u001b[39m\u001b[43mj\u001b[49m\u001b[38;5;241;43m.\u001b[39;49m\u001b[43mfind\u001b[49m\u001b[43m(\u001b[49m\u001b[38;5;124;43m\"\u001b[39;49m\u001b[38;5;124;43ma\u001b[39;49m\u001b[38;5;124;43m\"\u001b[39;49m\u001b[43m)\u001b[49m\u001b[43m[\u001b[49m\u001b[38;5;124;43m\"\u001b[39;49m\u001b[38;5;124;43mhref\u001b[39;49m\u001b[38;5;124;43m\"\u001b[39;49m\u001b[43m]\u001b[49m\n\u001b[0;32m      4\u001b[0m         applly_link\u001b[38;5;241m.\u001b[39mappend(link)\n\u001b[0;32m      5\u001b[0m     \u001b[38;5;28;01melse\u001b[39;00m:\n",
      "\u001b[1;31mTypeError\u001b[0m: 'NoneType' object is not subscriptable"
     ]
    }
   ],
   "source": [
    "for j in apply_link_soup:\n",
    "    if j.text=='To Apply:\\xa0Click here' or \"Apply Link: Click Here\" :\n",
    "        link=j.find(\"a\")[\"href\"]\n",
    "        applly_link.append(link)\n",
    "    else:\n",
    "        pass"
   ]
  },
  {
   "cell_type": "code",
   "execution_count": 37,
   "id": "4be23751-73df-478d-a4f8-f9ae51bd801f",
   "metadata": {},
   "outputs": [
    {
     "name": "stdout",
     "output_type": "stream",
     "text": [
      "https://careers.atkinsrealis.com/job/trainee-3-months-2020-2021-2022-pass-out-only-in-gurgaon-haryana-jid-33227\n"
     ]
    }
   ],
   "source": [
    "for i in apply_link_soup:\n",
    "    if i.text=='To Apply:\\xa0Click here' or i.text==\"Apply Link: Click Here\" :\n",
    "        a=apply_link_soup[10].find(\"a\")[\"href\"]\n",
    "        print(a)"
   ]
  },
  {
   "cell_type": "code",
   "execution_count": 43,
   "id": "48c018c2-8479-4e90-877e-001e4dac3302",
   "metadata": {},
   "outputs": [
    {
     "data": {
      "text/plain": [
       "['https://careers.atkinsrealis.com/job/trainee-3-months-2020-2021-2022-pass-out-only-in-gurgaon-haryana-jid-33227',\n",
       " 'https://www.firstnaukri.com/job-listings-deputy-manager-fresher-engineer-yes-bank-mumbai-navi-mumbai-maharashtra-mumbai-all-areas-0-to-1-years-040423008211',\n",
       " 'https://www.linkedin.com/jobs/view/3727755734',\n",
       " 'https://www.naukri.com/job-listings-trainee-network-engineer-geekyants-bangalore-bengaluru-0-to-1-years-121023009550?src=firstnaukri&utm_source=firstnaukri&utm_medium=jd',\n",
       " 'https://careers.ey.com/ey/job/Kochi-Associate-Analyst-FTV-QTT-KL-682303/992905501/',\n",
       " 'https://altrata.peoplehr.net/Pages/JobBoard/Opening.aspx?v=21dc6ebd-7047-482e-b9e4-bfd5b7d396ab',\n",
       " 'https://zycus.skillate.com/jobs/43113',\n",
       " 'https://www.naukri.com/job-listings-non-technical-support-fresher-mega-walkin-hcltech-hyderabad-secunderabad-telangana-0-to-0-years-121023009561',\n",
       " 'https://jobs.smartrecruiters.com/SopraSteria1/743999936774462-service-desk-junior-engineer-infrastructure-management?utm_source=Indeed&utm_medium=organic&utm_campaign=Indeed',\n",
       " 'https://www.naukri.com/job-listings-management-trainee-digital-and-information-technology-crompton-greaves-consumer-electricals-mumbai-all-areas-0-to-2-years-101023005367?src=firstnaukri&utm_source=firstnaukri&utm_medium=jd',\n",
       " 'https://www.firstnaukri.com/job-listings-trainee-software-developer-cyber-infrastructure-indore-madhya-pradesh-0-to-0-years-290523006973',\n",
       " 'https://www.linkedin.com/jobs/view/3733552320/?refId=Gp4vGfgmRHyAAkq1ymfMvQ%3D%3D&trackingId=VuXAQOjSTHyCn87jlB1yYA%3D%3D',\n",
       " 'https://www.linkedin.com/jobs/view/3735407241',\n",
       " 'https://cuvette.tech/app/other-jobs/652383571ef218a3795b9a94?referralCode=KEXUQW',\n",
       " 'https://cuvette.tech/app/other-jobs/652385f81ef218a3795b9a96?referralCode=KEXUQW',\n",
       " 'https://www.naukri.com/job-listings-trainee-testing-slk-software-services-private-limited-bangalore-bengaluru-0-to-1-years-091023501253?src=firstnaukri&utm_source=firstnaukri&utm_medium=jd',\n",
       " 'https://cuvette.tech/app/public/internship/652676472ec3ff6943ddcdaf?referralCode=KEXUQW',\n",
       " 'https://jobs.klimb.io/indiamart/619628593fdacd4b764de152?',\n",
       " 'https://www.linkedin.com/jobs/view/3729377051',\n",
       " 'https://jobs.telusinternational.com/en_US/careers/PipelineDetail/Media-Search-Analyst-India-English-Language/27901',\n",
       " 'https://usijobs.deloitte.com/careersUSI/JobDetail/EHFY24-Consulting-Customer-Marketing-Junior-trafficker/152168',\n",
       " 'https://acko.skillate.com/jobs/53950?utm_medium=JOB_PORTAL&utm_source=LINKEDIN',\n",
       " 'https://www.naukri.com/job-listings-international-voice-process-technical-support-firstsource-bangalore-bengaluru-0-to-4-years-031023007167?src=jobsearchDesk&sid=16965916380793069_1&xp=10&px=2',\n",
       " 'https://forms.office.com/pages/responsepage.aspx?id=0o3Z5JmR5UK6i9o-dj7eLq0Di02SxiRKvrcmuY04xrFUQjg2QU1RUDY0UDdUSDc3TkVIN09MVVMzMy4u']"
      ]
     },
     "execution_count": 43,
     "metadata": {},
     "output_type": "execute_result"
    }
   ],
   "source": [
    "applly_link"
   ]
  },
  {
   "cell_type": "code",
   "execution_count": 44,
   "id": "f465695b-2aa6-4817-828c-8bb17c5e8b22",
   "metadata": {},
   "outputs": [
    {
     "data": {
      "text/plain": [
       "['https://quizxp.com/atkins-off-campus-drive/',\n",
       " 'https://quizxp.com/yes-bank-off-campus-drive/',\n",
       " 'https://quizxp.com/bajaj-allianz-off-campus-drive/',\n",
       " 'https://quizxp.com/geekyants-off-campus-drive-2/',\n",
       " 'https://quizxp.com/ey-off-campus-drive/',\n",
       " 'https://quizxp.com/altrata-off-campus-drive/',\n",
       " 'https://quizxp.com/zycus-off-campus-drive-2/',\n",
       " 'https://quizxp.com/hcl-walk-in-drive-2023-freshers-any-graduate-hyderabad/',\n",
       " 'https://quizxp.com/sopra-steria-off-campus-drive/',\n",
       " 'https://quizxp.com/crompton-greaves-off-campus-drive/',\n",
       " 'https://quizxp.com/cyber-infrastructure-off-campus-drive/',\n",
       " 'https://quizxp.com/first-advantage-off-campus-drive/',\n",
       " 'https://quizxp.com/powerplay-off-campus-internship/',\n",
       " 'https://quizxp.com/ibm-off-campus-drive-2/',\n",
       " 'https://quizxp.com/ziplr-off-campus-drive-2023-for-software-engineer/',\n",
       " 'https://quizxp.com/slk-software-off-campus-drive/',\n",
       " 'https://quizxp.com/scalers-off-campus-internship-2023/',\n",
       " 'https://quizxp.com/indiamart-off-campus-drive/',\n",
       " 'https://quizxp.com/locuz-off-campus-drive/',\n",
       " 'https://quizxp.com/telus-international-off-campus-drive/',\n",
       " 'https://quizxp.com/infosys-and-deloitte-inviting-freshers-of-any-degree-2/',\n",
       " 'https://quizxp.com/google-recruitment-for-entry-level-test-engineer-in-bangalore/',\n",
       " 'https://quizxp.com/infosys-inviting-freshers-for-walk-in-3/',\n",
       " 'https://quizxp.com/deloitte-off-campus-drive-for-digital-marketing/',\n",
       " 'https://quizxp.com/acko-off-campus-drive-2023/',\n",
       " 'https://quizxp.com/firstsource-off-campus-drive/',\n",
       " 'https://quizxp.com/maq-software-off-campus-drive/',\n",
       " 'https://quizxp.com/globallogic-off-campus-drive-2/',\n",
       " 'https://quizxp.com/siemens-healthineers-off-campus-drive/',\n",
       " 'https://quizxp.com/adani-off-campus-drive-2/']"
      ]
     },
     "execution_count": 44,
     "metadata": {},
     "output_type": "execute_result"
    }
   ],
   "source": [
    "Job_links"
   ]
  },
  {
   "cell_type": "code",
   "execution_count": 47,
   "id": "ef89264d-7464-4dfb-8a82-0f19770e2c4d",
   "metadata": {},
   "outputs": [
    {
     "data": {
      "text/plain": [
       "'https://quizxp.com/infosys-and-deloitte-inviting-freshers-of-any-degree-2/'"
      ]
     },
     "execution_count": 47,
     "metadata": {},
     "output_type": "execute_result"
    }
   ],
   "source": [
    "Job_links[20]"
   ]
  },
  {
   "cell_type": "code",
   "execution_count": 78,
   "id": "8220f065-8b1f-478d-a0e8-9786445d2e73",
   "metadata": {},
   "outputs": [],
   "source": [
    "applly_link=[]\n",
    "url=Job_links[21]\n",
    "response=requests.get(url)\n",
    "soup=bs(response.text,\"html.parser\")\n",
    "apply_link_soup=soup.find_all(\"p\")\n",
    "for j in apply_link_soup:\n",
    "    if j.text=='To Apply:\\xa0Click here' or j.text==\"Apply Link: Click Here\" or j.text==\"Application Link: \":\n",
    "        link=j.find(\"a\")[\"href\"]\n",
    "        applly_link.append(link)\n",
    "    else:\n",
    "        pass"
   ]
  },
  {
   "cell_type": "code",
   "execution_count": 76,
   "id": "495ef842-e2ba-4213-add1-0c0af6d0b632",
   "metadata": {},
   "outputs": [
    {
     "data": {
      "text/plain": [
       "'https://quizxp.com/infosys-and-deloitte-inviting-freshers-of-any-degree-2/'"
      ]
     },
     "execution_count": 76,
     "metadata": {},
     "output_type": "execute_result"
    }
   ],
   "source": [
    "Job_links[20]"
   ]
  },
  {
   "cell_type": "code",
   "execution_count": 84,
   "id": "810a6acb-1b1e-4cf7-b63d-e01ff97e3bd7",
   "metadata": {},
   "outputs": [
    {
     "data": {
      "text/plain": [
       "'Application Link: Click Here'"
      ]
     },
     "execution_count": 84,
     "metadata": {},
     "output_type": "execute_result"
    }
   ],
   "source": [
    "apply_link_soup[12].text"
   ]
  },
  {
   "cell_type": "code",
   "execution_count": 99,
   "id": "18d06a7f-d032-4ab0-a712-3137f86df767",
   "metadata": {},
   "outputs": [
    {
     "data": {
      "text/plain": [
       "['https://careers.atkinsrealis.com/job/trainee-3-months-2020-2021-2022-pass-out-only-in-gurgaon-haryana-jid-33227',\n",
       " 'https://www.firstnaukri.com/job-listings-deputy-manager-fresher-engineer-yes-bank-mumbai-navi-mumbai-maharashtra-mumbai-all-areas-0-to-1-years-040423008211',\n",
       " 'https://www.linkedin.com/jobs/view/3727755734',\n",
       " 'https://www.naukri.com/job-listings-trainee-network-engineer-geekyants-bangalore-bengaluru-0-to-1-years-121023009550?src=firstnaukri&utm_source=firstnaukri&utm_medium=jd',\n",
       " 'https://careers.ey.com/ey/job/Kochi-Associate-Analyst-FTV-QTT-KL-682303/992905501/',\n",
       " 'https://altrata.peoplehr.net/Pages/JobBoard/Opening.aspx?v=21dc6ebd-7047-482e-b9e4-bfd5b7d396ab',\n",
       " 'https://zycus.skillate.com/jobs/43113',\n",
       " 'https://www.naukri.com/job-listings-non-technical-support-fresher-mega-walkin-hcltech-hyderabad-secunderabad-telangana-0-to-0-years-121023009561',\n",
       " 'https://jobs.smartrecruiters.com/SopraSteria1/743999936774462-service-desk-junior-engineer-infrastructure-management?utm_source=Indeed&utm_medium=organic&utm_campaign=Indeed',\n",
       " 'https://www.naukri.com/job-listings-management-trainee-digital-and-information-technology-crompton-greaves-consumer-electricals-mumbai-all-areas-0-to-2-years-101023005367?src=firstnaukri&utm_source=firstnaukri&utm_medium=jd',\n",
       " 'https://www.firstnaukri.com/job-listings-trainee-software-developer-cyber-infrastructure-indore-madhya-pradesh-0-to-0-years-290523006973',\n",
       " 'https://www.linkedin.com/jobs/view/3733552320/?refId=Gp4vGfgmRHyAAkq1ymfMvQ%3D%3D&trackingId=VuXAQOjSTHyCn87jlB1yYA%3D%3D',\n",
       " 'https://www.linkedin.com/jobs/view/3735407241',\n",
       " 'https://cuvette.tech/app/other-jobs/652383571ef218a3795b9a94?referralCode=KEXUQW',\n",
       " 'https://cuvette.tech/app/other-jobs/652385f81ef218a3795b9a96?referralCode=KEXUQW',\n",
       " 'https://www.naukri.com/job-listings-trainee-testing-slk-software-services-private-limited-bangalore-bengaluru-0-to-1-years-091023501253?src=firstnaukri&utm_source=firstnaukri&utm_medium=jd',\n",
       " 'https://cuvette.tech/app/public/internship/652676472ec3ff6943ddcdaf?referralCode=KEXUQW',\n",
       " 'https://jobs.klimb.io/indiamart/619628593fdacd4b764de152?',\n",
       " 'https://www.linkedin.com/jobs/view/3729377051',\n",
       " 'https://jobs.telusinternational.com/en_US/careers/PipelineDetail/Media-Search-Analyst-India-English-Language/27901',\n",
       " 'https://www.google.com/about/careers/applications/jobs/results/105240197462926022-test-engineer-google-distributed-cloud-hosted',\n",
       " 'https://www.linkedin.com/jobs/view/3732224412',\n",
       " 'https://usijobs.deloitte.com/careersUSI/JobDetail/EHFY24-Consulting-Customer-Marketing-Junior-trafficker/152168',\n",
       " 'https://acko.skillate.com/jobs/53950?utm_medium=JOB_PORTAL&utm_source=LINKEDIN',\n",
       " 'https://www.naukri.com/job-listings-international-voice-process-technical-support-firstsource-bangalore-bengaluru-0-to-4-years-031023007167?src=jobsearchDesk&sid=16965916380793069_1&xp=10&px=2',\n",
       " 'https://forms.office.com/pages/responsepage.aspx?id=0o3Z5JmR5UK6i9o-dj7eLq0Di02SxiRKvrcmuY04xrFUQjg2QU1RUDY0UDdUSDc3TkVIN09MVVMzMy4u']"
      ]
     },
     "execution_count": 99,
     "metadata": {},
     "output_type": "execute_result"
    }
   ],
   "source": [
    "applly_link"
   ]
  },
  {
   "cell_type": "code",
   "execution_count": 98,
   "id": "fc5cc4fc-3c58-4f6e-b68b-c6e93b4a8c77",
   "metadata": {},
   "outputs": [
    {
     "data": {
      "text/plain": [
       "['https://quizxp.com/atkins-off-campus-drive/',\n",
       " 'https://quizxp.com/yes-bank-off-campus-drive/',\n",
       " 'https://quizxp.com/bajaj-allianz-off-campus-drive/',\n",
       " 'https://quizxp.com/geekyants-off-campus-drive-2/',\n",
       " 'https://quizxp.com/ey-off-campus-drive/',\n",
       " 'https://quizxp.com/altrata-off-campus-drive/',\n",
       " 'https://quizxp.com/zycus-off-campus-drive-2/',\n",
       " 'https://quizxp.com/hcl-walk-in-drive-2023-freshers-any-graduate-hyderabad/',\n",
       " 'https://quizxp.com/sopra-steria-off-campus-drive/',\n",
       " 'https://quizxp.com/crompton-greaves-off-campus-drive/',\n",
       " 'https://quizxp.com/cyber-infrastructure-off-campus-drive/',\n",
       " 'https://quizxp.com/first-advantage-off-campus-drive/',\n",
       " 'https://quizxp.com/powerplay-off-campus-internship/',\n",
       " 'https://quizxp.com/ibm-off-campus-drive-2/',\n",
       " 'https://quizxp.com/ziplr-off-campus-drive-2023-for-software-engineer/',\n",
       " 'https://quizxp.com/slk-software-off-campus-drive/',\n",
       " 'https://quizxp.com/scalers-off-campus-internship-2023/',\n",
       " 'https://quizxp.com/indiamart-off-campus-drive/',\n",
       " 'https://quizxp.com/locuz-off-campus-drive/',\n",
       " 'https://quizxp.com/telus-international-off-campus-drive/',\n",
       " 'https://quizxp.com/infosys-and-deloitte-inviting-freshers-of-any-degree-2/',\n",
       " 'https://quizxp.com/google-recruitment-for-entry-level-test-engineer-in-bangalore/',\n",
       " 'https://quizxp.com/infosys-inviting-freshers-for-walk-in-3/',\n",
       " 'https://quizxp.com/deloitte-off-campus-drive-for-digital-marketing/',\n",
       " 'https://quizxp.com/acko-off-campus-drive-2023/',\n",
       " 'https://quizxp.com/firstsource-off-campus-drive/',\n",
       " 'https://quizxp.com/maq-software-off-campus-drive/',\n",
       " 'https://quizxp.com/globallogic-off-campus-drive-2/',\n",
       " 'https://quizxp.com/siemens-healthineers-off-campus-drive/',\n",
       " 'https://quizxp.com/adani-off-campus-drive-2/']"
      ]
     },
     "execution_count": 98,
     "metadata": {},
     "output_type": "execute_result"
    }
   ],
   "source": [
    "Job_links"
   ]
  },
  {
   "cell_type": "code",
   "execution_count": null,
   "id": "11b73076-a59e-4661-b4f2-bbf227c0cc7a",
   "metadata": {},
   "outputs": [],
   "source": []
  }
 ],
 "metadata": {
  "kernelspec": {
   "display_name": "Python 3 (ipykernel)",
   "language": "python",
   "name": "python3"
  },
  "language_info": {
   "codemirror_mode": {
    "name": "ipython",
    "version": 3
   },
   "file_extension": ".py",
   "mimetype": "text/x-python",
   "name": "python",
   "nbconvert_exporter": "python",
   "pygments_lexer": "ipython3",
   "version": "3.11.4"
  }
 },
 "nbformat": 4,
 "nbformat_minor": 5
}
